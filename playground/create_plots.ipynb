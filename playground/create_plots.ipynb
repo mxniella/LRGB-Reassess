{
 "cells": [
  {
   "cell_type": "markdown",
   "metadata": {},
   "source": [
    "Library: https://github.com/BayesWatch/mpl_sizes"
   ]
  },
  {
   "cell_type": "markdown",
   "metadata": {},
   "source": [
    "# Random Walk Positional Encoding"
   ]
  },
  {
   "cell_type": "code",
   "execution_count": 1,
   "metadata": {},
   "outputs": [],
   "source": [
    "walk_length = [0, 1, 2, 3, 4, 5, 6, 7, 8, 9, 10, 11, 12, 13, 14, 15, 16, 17, 18, 19, 20, 21, 22, 23, 24, 25, 26, 27, 28, 29, 30]\n",
    "train_ap = [0.9959, 0.9957, 0.9959, 0.9884, 0.9957, 0.9850, 0.9849, 0.9952, 0.9959, 0.9960, 0.9959, 0.9947, 0.9949, 0.9962, 0.9966, 0.9949, 0.9963, 0.9964, 0.9962, 0.9962, 0.9966, 0.9962, 0.9965, 0.9963, 0.9962, 0.9951, 0.9969, 0.9970, 0.9941, 0.9952, 0.9942]\n",
    "val_ap = [0.6909, 0.6931, 0.6914, 0.6906, 0.6945, 0.6891, 0.6885, 0.6942, 0.6912, 0.6921, 0.6918, 0.7101, 0.7107, 0.7114, 0.7107, 0.7108, 0.7123, 0.7112, 0.7124, 0.7118, 0.7103, 0.7118, 0.7111, 0.7117, 0.7124, 0.7045, 0.7089, 0.7057, 0.7006, 0.7053, 0.6961]\n",
    "test_ap =[0.7001, 0.6995, 0.6998, 0.6947, 0.6999, 0.6920, 0.6927, 0.6985, 0.6999, 0.7003, 0.6996, 0.7033, 0.7034, 0.7040, 0.7036, 0.7041, 0.7056, 0.7043, 0.7043, 0.7042, 0.7049, 0.7043, 0.7042, 0.7045, 0.7041, 0.7078, 0.6998, 0.7036, 0.7002, 0.7013, 0.6888]"
   ]
  },
  {
   "cell_type": "code",
   "execution_count": 21,
   "metadata": {},
   "outputs": [
    {
     "data": {
      "image/png": "[encoded data removed]",
      "text/plain": [
       "<Figure size 325.063x139.313 with 1 Axes>"
      ]
     },
     "metadata": {},
     "output_type": "display_data"
    }
   ],
   "source": [
    "import matplotlib.pyplot as plt\n",
    "\n",
    "from mpl_sizes import get_format\n",
    "from typing import Tuple\n",
    "\n",
    "def get_fig_ax(\n",
    "    n_rows: int = 1,\n",
    "    n_cols: int = 1,\n",
    "    figsize: Tuple[float, float] = None,\n",
    "):\n",
    "\n",
    "    fig, ax = plt.subplots(n_rows, n_cols, figsize=figsize)\n",
    "    return fig, ax\n",
    "\n",
    "formatter = get_format(\"ICML\")\n",
    "\n",
    "\n",
    "fig, ax = get_fig_ax(figsize=formatter.line_width_plot())\n",
    "\n",
    "# Plot test MAE\n",
    "ax.plot(walk_length, test_ap, label='Test', color='blue', linestyle='-', linewidth=2)\n",
    "\n",
    "# Plot train MAE\n",
    "ax.plot(walk_length, train_ap, label='Train', color='green', linestyle='--', linewidth=2)\n",
    "\n",
    "# Plot validation MAE\n",
    "ax.plot(walk_length, val_ap, label='Validation', color='red', linestyle='-.', linewidth=2)\n",
    "\n",
    "\n",
    "# Add labels and legend\n",
    "ax.set_xlabel('Walk Length', fontsize=6)\n",
    "ax.set_ylabel('AP Score', fontsize=6)\n",
    "ax.set_title('Average Precision (AP) vs. Walk length', fontsize=6)\n",
    "ax.legend(fontsize=6, loc='center right')\n",
    "\n",
    "# Show the plot\n",
    "plt.tight_layout()  # Adjusts the plot to fit nicely\n",
    "plt.savefig('RWPE.pdf')  # Save the plot as an image\n",
    "plt.show()"
   ]
  },
  {
   "cell_type": "markdown",
   "metadata": {},
   "source": [
    "# Laplacian Encoding"
   ]
  },
  {
   "cell_type": "code",
   "execution_count": 3,
   "metadata": {},
   "outputs": [],
   "source": [
    "k = [0,1,2,3,4,5,6,7]\n",
    "val_mae = [0.2544, 0.2535, 0.2543, 0.2543, 0.2538, 0.2557, 0.2547, 0.2555]\n",
    "test_mae = [0.2570, 0.2578, 0.2573, 0.2576, 0.2565, 0.2561, 0.2571, 0.2571]\n",
    "train_mae = [0.2103, 0.2093, 0.2096, 0.2094, 0.2094, 0.2069, 0.2114, 0.2112]"
   ]
  },
  {
   "cell_type": "code",
   "execution_count": 22,
   "metadata": {},
   "outputs": [
    {
     "data": {
      "image/png": "[encoded data removed]",
      "text/plain": [
       "<Figure size 325.063x139.313 with 1 Axes>"
      ]
     },
     "metadata": {},
     "output_type": "display_data"
    }
   ],
   "source": [
    "import matplotlib.pyplot as plt\n",
    "\n",
    "from mpl_sizes import get_format\n",
    "from typing import Tuple\n",
    "\n",
    "def get_fig_ax(\n",
    "    n_rows: int = 1,\n",
    "    n_cols: int = 1,\n",
    "    figsize: Tuple[float, float] = None,\n",
    "):\n",
    "\n",
    "    fig, ax = plt.subplots(n_rows, n_cols, figsize=figsize)\n",
    "    return fig, ax\n",
    "\n",
    "formatter = get_format(\"ICML\")\n",
    "\n",
    "fig, ax = get_fig_ax(figsize=formatter.line_width_plot())\n",
    "\n",
    "# Plot test MAE\n",
    "ax.plot(k, test_mae, label='Test', color='blue', linestyle='-', linewidth=2)\n",
    "\n",
    "# Plot train MAE\n",
    "ax.plot(k, train_mae, label='Train', color='green', linestyle='--', linewidth=2)\n",
    "\n",
    "# Plot validation MAE\n",
    "ax.plot(k, val_mae, label='Validation', color='red', linestyle='-.', linewidth=2)\n",
    "\n",
    "\n",
    "# Add labels and legend\n",
    "ax.set_xlabel('Number of Eigenvalues', fontsize=6)\n",
    "ax.set_ylabel('MAE', fontsize=6)\n",
    "ax.set_title('Mean Absolute Error (MAE) vs. Number of Eigenvalues', fontsize=6)\n",
    "ax.legend(fontsize=6, loc='center right')\n",
    "\n",
    "# Show the plot\n",
    "plt.tight_layout()  # Adjusts the plot to fit nicely\n",
    "plt.savefig('LapPE.pdf')  # Save the plot as an image\n",
    "plt.show()"
   ]
  }
 ],
 "metadata": {
  "kernelspec": {
   "display_name": "graphgps",
   "language": "python",
   "name": "python3"
  },
  "language_info": {
   "codemirror_mode": {
    "name": "ipython",
    "version": 3
   },
   "file_extension": ".py",
   "mimetype": "text/x-python",
   "name": "python",
   "nbconvert_exporter": "python",
   "pygments_lexer": "ipython3",
   "version": "3.10.13"
  }
 },
 "nbformat": 4,
 "nbformat_minor": 2
}
